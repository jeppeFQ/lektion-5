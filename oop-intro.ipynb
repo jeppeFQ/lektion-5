{
 "cells": [
  {
   "cell_type": "markdown",
   "metadata": {},
   "source": [
    "# Object Oriented Programming (OOP)\n",
    "\n",
    "Fordelen ved at arbejde/udvikle i et **OOP** (objektorienteret programmering) er, at vi kan organisere implementeringen omkring vores data som \"objekter\" frem for en organisering omkring funktioner eller logik. En **OOP**-implementering gør det dog også mere ligetil at trække data ud sammen med deres tilhørende relationer.\n",
    "\n",
    "**Kodespecifikke-læringsmål**:\n",
    "\n",
    "1. Strukturere jeres data som objekter og klasser.\n",
    "\n",
    "2. Implementere metoder, der kan opdatere, hente og vise information om individer.\n",
    "\n",
    "3. Udnytte OOP til at organisere data effektivt og gøre koden nemmere at vedligeholde og udvide."
   ]
  },
  {
   "cell_type": "code",
   "execution_count": 14,
   "metadata": {},
   "outputs": [],
   "source": [
    "# Definer object/klasser \n",
    "class Person:\n",
    "    def __init__(self, navn, alder, køn):\n",
    "        self.navn = navn\n",
    "        self.alder = alder\n",
    "        self.køn = køn\n",
    "\n",
    "    # Getter og setter for navn\n"
   ]
  },
  {
   "cell_type": "code",
   "execution_count": 15,
   "metadata": {},
   "outputs": [],
   "source": [
    "jeppe = Person(navn = \"Jeppe\", alder = 31, køn = \"M\", )"
   ]
  },
  {
   "cell_type": "code",
   "execution_count": 16,
   "metadata": {},
   "outputs": [
    {
     "name": "stdout",
     "output_type": "stream",
     "text": [
      "<__main__.Person object at 0x1565242f0>\n"
     ]
    }
   ],
   "source": [
    "print(jeppe)"
   ]
  },
  {
   "cell_type": "code",
   "execution_count": 17,
   "metadata": {},
   "outputs": [
    {
     "name": "stdout",
     "output_type": "stream",
     "text": [
      "31\n"
     ]
    }
   ],
   "source": [
    "print(jeppe.alder)"
   ]
  },
  {
   "cell_type": "code",
   "execution_count": 5,
   "metadata": {},
   "outputs": [],
   "source": [
    "class Person:\n",
    "    def __init__(self, navn, alder, køn):\n",
    "        self.navn = navn\n",
    "        self.alder = alder\n",
    "        self.køn = køn\n",
    "\n",
    "    def __str__(self):\n",
    "        return f\"Navn: {self.navn}, Alder: {self.alder}, Køn: {self.køn}\"\n",
    "\n",
    "    # Validering af alder\n",
    "    @property\n",
    "    def alder(self):\n",
    "        return self._alder\n",
    "\n",
    "    @alder.setter\n",
    "    def alder(self, value):\n",
    "        if value < 0:\n",
    "            raise ValueError(\"Alder kan ikke være negativ\")\n",
    "        self._alder = value\n"
   ]
  },
  {
   "cell_type": "code",
   "execution_count": 6,
   "metadata": {},
   "outputs": [
    {
     "name": "stdout",
     "output_type": "stream",
     "text": [
      "Navn: Jeppe, Alder: 31, Køn: M\n"
     ]
    }
   ],
   "source": [
    "jeppe = Person(navn = \"Jeppe\", alder = 31, køn = \"M\", )\n",
    "print(jeppe)"
   ]
  },
  {
   "cell_type": "code",
   "execution_count": 1,
   "metadata": {},
   "outputs": [
    {
     "ename": "",
     "evalue": "\u001b[1m\u001b[33mError\u001b[39m:\u001b[22m\n\u001b[33m!\u001b[39m unexpected symbol in \"class Person\"",
     "output_type": "error",
     "traceback": [
      "\u001b[1m\u001b[33mError\u001b[39m:\u001b[22m\n",
      "\u001b[33m!\u001b[39m unexpected symbol in \"class Person\""
     ]
    }
   ],
   "source": [
    "# Definer klassen\n",
    "class Person:\n",
    "    def __init__(self, navn, alder, køn):\n",
    "        self.__navn = navn\n",
    "        self.__alder = alder\n",
    "        self.__køn = køn\n",
    "\n",
    "    def __str__(self):\n",
    "        return f\"Navn: {self.__navn}, Alder: {self.__alder}, Køn: {self.__køn}\"\n",
    "\n",
    "    # Validering af alder\n",
    "    @property\n",
    "    def alder(self):\n",
    "        return self._alder\n",
    "\n",
    "    @alder.setter\n",
    "    def alder(self, value):\n",
    "        if value < 0:\n",
    "            raise ValueError(\"Alder kan ikke være negativ\")\n",
    "        self._alder = value\n",
    "\n",
    "# Terminal-program\n",
    "def main():\n",
    "    personer = []\n",
    "\n",
    "    while True:\n",
    "        print(\"\\n--- Personregistrering ---\")\n",
    "        print(\"1. Tilføj person\")\n",
    "        print(\"2. Vis alle personer\")\n",
    "        print(\"3. Afslut\")\n",
    "        valg = input(\"Vælg en mulighed: \")\n",
    "\n",
    "        if valg == \"1\":\n",
    "            navn = input(\"Indtast navn: \")\n",
    "            alder = int(input(\"Indtast alder: \"))\n",
    "            køn = input(\"Indtast køn: \")\n",
    "            p = Person(navn, alder, køn)\n",
    "            personer.append(p)\n",
    "            print(\"Person tilføjet!\")\n",
    "\n",
    "        elif valg == \"2\":\n",
    "            if not personer:\n",
    "                print(\"Ingen personer registreret endnu.\")\n",
    "            else:\n",
    "                print(\"\\n--- Registrerede personer ---\")\n",
    "                for i, person in enumerate(personer, start=1):\n",
    "                    print(f\"{i}. {person}\")\n",
    "\n",
    "        elif valg == \"3\":\n",
    "            print(\"Registrering afsluttes.\")\n",
    "            break\n",
    "\n",
    "        else:\n",
    "            print(\"Ugyldigt valg.\")\n",
    "\n",
    "\n",
    "if __name__ == \"__main__\":\n",
    "    main()"
   ]
  }
 ],
 "metadata": {
  "language_info": {
   "name": "r"
  }
 },
 "nbformat": 4,
 "nbformat_minor": 2
}
